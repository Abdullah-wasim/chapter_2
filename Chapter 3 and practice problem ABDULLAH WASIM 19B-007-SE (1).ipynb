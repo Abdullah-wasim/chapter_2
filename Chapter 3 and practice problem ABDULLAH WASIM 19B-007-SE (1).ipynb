{
 "cells": [
  {
   "cell_type": "markdown",
   "metadata": {},
   "source": [
    "# PRACTICE PROBLEMS ABDULLAH WASIM 19B-007-SE"
   ]
  },
  {
   "cell_type": "code",
   "execution_count": 1,
   "metadata": {},
   "outputs": [
    {
     "name": "stdout",
     "output_type": "stream",
     "text": [
      "Enter the temperature in degree Fahrenheit: 45\n",
      "The temperature in degree Celsius is  7.222222222222222\n"
     ]
    }
   ],
   "source": [
    "# 3.1\n",
    "\n",
    "fahrenheit = eval(input('Enter the temperature in degree Fahrenheit: '))\n",
    "celsius = (fahrenheit - 32) * 5 / 9\n",
    "print('The temperature in degree Celsius is ', celsius)"
   ]
  },
  {
   "cell_type": "code",
   "execution_count": 2,
   "metadata": {},
   "outputs": [
    {
     "name": "stdout",
     "output_type": "stream",
     "text": [
      "You can get yout pension benefits! \n",
      "One of the top 5 baseball players, ever! \n",
      "I can escape. \n"
     ]
    }
   ],
   "source": [
    "# 3.2\n",
    "\n",
    "age = 63\n",
    "name = 'Williams'\n",
    "hits = 10\n",
    "sheild = 1\n",
    "north = True\n",
    "south = False\n",
    "east = False\n",
    "west = True\n",
    "\n",
    "if age > 62:\n",
    "    print('You can get yout pension benefits! ')\n",
    "    \n",
    "if name in ['Musial', 'Aaron', 'Williams', 'Gehrig', 'Ruth']:\n",
    "    print('One of the top 5 baseball players, ever! ')\n",
    "    \n",
    "if hits > 10 and sheild == 0:\n",
    "    print('You\\'re dead...')\n",
    "    \n",
    "if north or south or east or west:\n",
    "    print('I can escape. ')"
   ]
  },
  {
   "cell_type": "code",
   "execution_count": 6,
   "metadata": {},
   "outputs": [
    {
     "name": "stdout",
     "output_type": "stream",
     "text": [
      "Could be a leap year. \n",
      "You won! \n"
     ]
    }
   ],
   "source": [
    "# 3.3\n",
    "\n",
    "year = 4\n",
    "ticket = ['0111','0222','0223']\n",
    "lottery = ['0111','0222','0223']\n",
    "\n",
    "if year % 4 == 0:\n",
    "    print('Could be a leap year. ')\n",
    "else:\n",
    "    print('Definitelt not a leap year. ')\n",
    "    \n",
    "if  ticket == lottery:\n",
    "    print('You won! ')\n",
    "else: \n",
    "    print('Better Luck necxt time...' )\n"
   ]
  },
  {
   "cell_type": "code",
   "execution_count": 4,
   "metadata": {},
   "outputs": [
    {
     "name": "stdout",
     "output_type": "stream",
     "text": [
      "Login: Ahmed\n",
      "User unknown. \n",
      "Done. \n"
     ]
    }
   ],
   "source": [
    "# 3.4 \n",
    "\n",
    "users = ['joe', 'sure', 'hani', 'sophie']\n",
    "id = input('Login: ')\n",
    "\n",
    "if id in users:\n",
    "    print('You are in! ')\n",
    "else:\n",
    "    print('User unknown. ')\n",
    "    \n",
    "print('Done. ')"
   ]
  },
  {
   "cell_type": "code",
   "execution_count": 9,
   "metadata": {},
   "outputs": [
    {
     "name": "stdout",
     "output_type": "stream",
     "text": [
      "Enter word list: ['alert','message','list','word','name','stop','uncle']\n",
      "list\n",
      "word\n",
      "name\n",
      "stop\n"
     ]
    }
   ],
   "source": [
    "# 3.5\n",
    "\n",
    "\n",
    "wordlist = eval(input('Enter word list: '))\n",
    "for word in wordlist:\n",
    "    if len(word) == 4:\n",
    "        print(word)"
   ]
  },
  {
   "cell_type": "code",
   "execution_count": 10,
   "metadata": {},
   "outputs": [
    {
     "name": "stdout",
     "output_type": "stream",
     "text": [
      "Integer from 0 to 9\n",
      "0\n",
      "1\n",
      "2\n",
      "3\n",
      "4\n",
      "5\n",
      "6\n",
      "7\n",
      "8\n",
      "9\n",
      "Integer from 0 to 1\n",
      "0\n",
      "1\n"
     ]
    }
   ],
   "source": [
    "# 3.6\n",
    "\n",
    "print(\"Integer from 0 to 9\")\n",
    "for i in range(10):\n",
    "    print(i)\n",
    "print(\"Integer from 0 to 1\")  \n",
    "for i in range(2):\n",
    "    print(i)"
   ]
  },
  {
   "cell_type": "code",
   "execution_count": 11,
   "metadata": {},
   "outputs": [
    {
     "name": "stdout",
     "output_type": "stream",
     "text": [
      "Integer from 3 up to and including 12: \n",
      "3\n",
      "4\n",
      "5\n",
      "6\n",
      "7\n",
      "8\n",
      "9\n",
      "10\n",
      "11\n",
      "12\n"
     ]
    }
   ],
   "source": [
    "# 3.7 (a)\n",
    "print(\"Integer from 3 up to and including 12: \")\n",
    "for i in range(3, 13):\n",
    "    print(i)\n"
   ]
  },
  {
   "cell_type": "code",
   "execution_count": 12,
   "metadata": {},
   "outputs": [
    {
     "name": "stdout",
     "output_type": "stream",
     "text": [
      "Integer from 0 up to but not including 9, but with a step of 2 instead of the default 1\n",
      "0\n",
      "2\n",
      "4\n",
      "6\n",
      "8\n"
     ]
    }
   ],
   "source": [
    "# 3.7 (b)\n",
    "\n",
    "print(\"Integer from 0 up to but not including 9, but with a step of 2 instead of the default 1\")\n",
    "\n",
    "for i in range(0, 10, 2):\n",
    "    print(i)"
   ]
  },
  {
   "cell_type": "code",
   "execution_count": 13,
   "metadata": {},
   "outputs": [
    {
     "name": "stdout",
     "output_type": "stream",
     "text": [
      "Integer from 0 up to but not including 24 with a step of 3:\n",
      "0\n",
      "3\n",
      "6\n",
      "9\n",
      "12\n",
      "15\n",
      "18\n",
      "21\n"
     ]
    }
   ],
   "source": [
    "# 3.7 (c)\n",
    "\n",
    "print(\"Integer from 0 up to but not including 24 with a step of 3:\")\n",
    "\n",
    "for i in range(0, 24, 3):\n",
    "    print(i)"
   ]
  },
  {
   "cell_type": "code",
   "execution_count": 14,
   "metadata": {},
   "outputs": [
    {
     "name": "stdout",
     "output_type": "stream",
     "text": [
      "Integer from 3 up to but not including 12 with a step of 5:\n",
      "3\n",
      "8\n"
     ]
    }
   ],
   "source": [
    "# 3.7 (d)\n",
    "\n",
    "print(\"Integer from 3 up to but not including 12 with a step of 5:\")\n",
    "\n",
    "for i in range(3, 12, 5):\n",
    "    print(i)"
   ]
  },
  {
   "cell_type": "code",
   "execution_count": 16,
   "metadata": {},
   "outputs": [
    {
     "name": "stdout",
     "output_type": "stream",
     "text": [
      "Input radius: 1\n",
      "6.283185307179586\n"
     ]
    }
   ],
   "source": [
    "# 3.8\n",
    "\n",
    "import math\n",
    "def perimeter(radius):\n",
    "    return 2 * math.pi * radius\n",
    "\n",
    "print(perimeter(int(input(\"Input radius: \"))))"
   ]
  },
  {
   "cell_type": "code",
   "execution_count": 31,
   "metadata": {},
   "outputs": [
    {
     "name": "stdout",
     "output_type": "stream",
     "text": [
      "Input number 1: 1\n",
      "Input number 2: 2\n",
      "average is 1.5\n"
     ]
    }
   ],
   "source": [
    "# 3.9\n",
    "\n",
    "def average(x, y):\n",
    "    'returns average of x and y'\n",
    "    return(x + y) / 2\n",
    "\n",
    "num1= int(input(\"Input number 1: \"))\n",
    "num2= int(input(\"Input number 2: \"))\n",
    "\n",
    "print(\"average is \"+ str(average(num1,num2)))\n"
   ]
  },
  {
   "cell_type": "code",
   "execution_count": 21,
   "metadata": {},
   "outputs": [
    {
     "name": "stdout",
     "output_type": "stream",
     "text": [
      "False\n"
     ]
    }
   ],
   "source": [
    "# 3.10\n",
    "\n",
    "def noVowel(s):\n",
    "    'return True if string s contains no vowel, False otherwise'\n",
    "    for c in s:\n",
    "        if c in 'aeiouAEIOU':\n",
    "            return False\n",
    "        return True\n",
    "    \n",
    "print(noVowel('octopus'))"
   ]
  },
  {
   "cell_type": "code",
   "execution_count": 25,
   "metadata": {},
   "outputs": [
    {
     "name": "stdout",
     "output_type": "stream",
     "text": [
      "[2, 4, 6, 8, 4]contains even number: True\n",
      "[1, 2, 5, 6, 8]contains even number: False\n"
     ]
    }
   ],
   "source": [
    "# 3.11\n",
    "\n",
    "def allEven(numList):\n",
    "    'return True if all integers in numList are even, False otherwise'\n",
    "    for num in numList:\n",
    "        if num % 2 != 0:\n",
    "            return False\n",
    "    return True\n",
    "\n",
    "numList = [2,4,6,8,4]\n",
    "anotherList = [1,2,5,6,8]\n",
    "\n",
    "print(str(numList) + \"contains even number: \"+ str(allEven(numList)))\n",
    "print(str(anotherList) + \"contains even number: \"+ str(allEven(anotherList)))\n"
   ]
  },
  {
   "cell_type": "code",
   "execution_count": 26,
   "metadata": {},
   "outputs": [
    {
     "name": "stdout",
     "output_type": "stream",
     "text": [
      "-1\n",
      "-5\n"
     ]
    }
   ],
   "source": [
    "# 3.12\n",
    "\n",
    "def negatives(lst):\n",
    "    'prints the negative numbers in list lst'\n",
    "    for i in lst:\n",
    "        if i < 0:\n",
    "            print(i)\n",
    "            \n",
    "negatives([2,-1,3,-5,2,2])"
   ]
  },
  {
   "cell_type": "code",
   "execution_count": 32,
   "metadata": {},
   "outputs": [
    {
     "name": "stdout",
     "output_type": "stream",
     "text": [
      "Help on function average in module __main__:\n",
      "\n",
      "average(x, y)\n",
      "    returns average of x and y\n",
      "\n",
      "Help on function negatives in module __main__:\n",
      "\n",
      "negatives(lst)\n",
      "    prints th negative numbers in list lst\n",
      "\n"
     ]
    }
   ],
   "source": [
    "# 3.13\n",
    "\n",
    "help(average)\n",
    "help(negatives)\n",
    "\n"
   ]
  },
  {
   "cell_type": "code",
   "execution_count": null,
   "metadata": {},
   "outputs": [],
   "source": [
    "# 3.14\n"
   ]
  },
  {
   "cell_type": "code",
   "execution_count": 33,
   "metadata": {},
   "outputs": [
    {
     "name": "stdout",
     "output_type": "stream",
     "text": [
      "['Ayan', 'Ali', 'Sohaib', 'Ahmed']\n"
     ]
    }
   ],
   "source": [
    "# 3.15\n",
    "\n",
    "team = ['Ahmed','Ali','Sohaib','Ayan']\n",
    "\n",
    "team[0], team[-1] = team[-1], team[0]\n",
    "\n",
    "print(team)"
   ]
  },
  {
   "cell_type": "code",
   "execution_count": 35,
   "metadata": {},
   "outputs": [
    {
     "name": "stdout",
     "output_type": "stream",
     "text": [
      "['apples', 'sugar', 'butter', 'flour']\n"
     ]
    }
   ],
   "source": [
    "# 3.16\n",
    "\n",
    "ingredients =['flour','sugar','butter','apples']\n",
    "\n",
    "def swapFL(lst):\n",
    "    lst[0], lst[-1] = lst[-1], lst[0]\n",
    "    \n",
    "swapFL(ingredients)\n",
    "print(ingredients)"
   ]
  },
  {
   "cell_type": "markdown",
   "metadata": {},
   "source": [
    "# Chapter # 3 Assignment "
   ]
  },
  {
   "cell_type": "code",
   "execution_count": 1,
   "metadata": {},
   "outputs": [
    {
     "name": "stdout",
     "output_type": "stream",
     "text": [
      "OK\n",
      "C is not less than b\n",
      "the sum of a and b is not equal to c\n",
      "OK\n"
     ]
    }
   ],
   "source": [
    "#3.18\n",
    "a=3\n",
    "b=4\n",
    "c=5\n",
    "if a<b:\n",
    "    print(\"OK\")\n",
    "if c<b:\n",
    "    print(\"OK\")\n",
    "else:\n",
    "    print(\"C is not less than b\")\n",
    "if a+b==c:\n",
    "    print(\"OK\")\n",
    "else:\n",
    "    print(\"the sum of a and b is not equal to c\")\n",
    "if a**2+b**2==c**2:\n",
    "    print(\"OK\")\n",
    "else:\n",
    "    print(\"NOT OK\")"
   ]
  },
  {
   "cell_type": "code",
   "execution_count": 2,
   "metadata": {},
   "outputs": [
    {
     "name": "stdout",
     "output_type": "stream",
     "text": [
      "jan\n",
      "feb\n",
      "mar\n"
     ]
    }
   ],
   "source": [
    "#3.20\n",
    "lst = ['january','february','march']\n",
    "\n",
    "for january in lst:\n",
    "    print(january[0:3])\n"
   ]
  },
  {
   "cell_type": "code",
   "execution_count": 4,
   "metadata": {},
   "outputs": [
    {
     "name": "stdout",
     "output_type": "stream",
     "text": [
      "2 4 6 8 "
     ]
    }
   ],
   "source": [
    "#3.21\n",
    "lst = [2, 3, 4, 5, 6, 7, 8, 9] \n",
    "  \n",
    "for num in lst: \n",
    "    if num % 2 == 0:\n",
    "        print(num, end = \" \") \n"
   ]
  },
  {
   "cell_type": "code",
   "execution_count": 5,
   "metadata": {},
   "outputs": [
    {
     "name": "stdout",
     "output_type": "stream",
     "text": [
      "4\n",
      "8\n"
     ]
    }
   ],
   "source": [
    "#3.22\n",
    "lst = [2, 3, 4, 5, 6, 7, 8, 9]\n",
    "\n",
    "for num in lst:\n",
    "    if (num * num) % 8 == 0:\n",
    "        print(num)"
   ]
  },
  {
   "cell_type": "code",
   "execution_count": 6,
   "metadata": {},
   "outputs": [
    {
     "name": "stdout",
     "output_type": "stream",
     "text": [
      "0 1 0 3 4 5 6 1 0 3 5 9 13 17 21 "
     ]
    }
   ],
   "source": [
    "#3.23\n",
    "\n",
    "# a\n",
    "for i in range(2):\n",
    "    print(i, end = \" \")\n",
    "    \n",
    "# b\n",
    "for i in range(1):\n",
    "    print(i, end = \" \")\n",
    "    \n",
    "# c\n",
    "for i in range(3,7):\n",
    "    print(i, end = \" \")\n",
    "    \n",
    "# d\n",
    "for i in range(1,2):\n",
    "    print(i, end = \" \")\n",
    "    \n",
    "# e\n",
    "for i in range(0,4,3):\n",
    "    print(i, end = \" \")\n",
    "    \n",
    "# f\n",
    "for i in range(5,22,4):\n",
    "    print(i, end = \" \")\n",
    "    \n"
   ]
  },
  {
   "cell_type": "code",
   "execution_count": 7,
   "metadata": {},
   "outputs": [
    {
     "name": "stdout",
     "output_type": "stream",
     "text": [
      " enter the list of words: ['Mango','secret','Sherry','Abdullah','secret']\n",
      "Mango\n",
      "Sherry\n",
      "Abdullah\n"
     ]
    }
   ],
   "source": [
    "#3.24\n",
    "words = eval(input(\" enter the list of words: \"))\n",
    "for word in words:\n",
    "    if word!='secret':\n",
    "        print(word)"
   ]
  },
  {
   "cell_type": "code",
   "execution_count": 9,
   "metadata": {},
   "outputs": [
    {
     "name": "stdout",
     "output_type": "stream",
     "text": [
      "enter list: ['pineapple', 'abdullah', 'Sherry', 'strawberry', 'mango']\n",
      "pineapple\n",
      "mango\n"
     ]
    }
   ],
   "source": [
    "#3.25\n",
    "names = eval(input(\"enter list: \"))\n",
    "names_1 = names[0]\n",
    "names_2 = names[-1]\n",
    "print(names_1)\n",
    "print(names_2)\n"
   ]
  },
  {
   "cell_type": "code",
   "execution_count": 10,
   "metadata": {},
   "outputs": [
    {
     "name": "stdout",
     "output_type": "stream",
     "text": [
      "enter a list[3, 5, 7, 9]\n",
      "The first list element is 3\n",
      "The last list element is 9\n"
     ]
    }
   ],
   "source": [
    "#3.26\n",
    "numbers = eval(input(\"enter a list\"))\n",
    "num_1 = numbers[0]\n",
    "num_2 = numbers[3]\n",
    "print(\"The first list element is\", num_1)\n",
    "print(\"The last list element is\", num_2)\n"
   ]
  },
  {
   "cell_type": "code",
   "execution_count": 11,
   "metadata": {},
   "outputs": [
    {
     "name": "stdout",
     "output_type": "stream",
     "text": [
      "Enter n:2\n",
      "2\n",
      "4\n",
      "6\n",
      "8\n"
     ]
    }
   ],
   "source": [
    "#3.27\n",
    "n = int(input(\"Enter n:\"))\n",
    "for i in range(4):\n",
    "    print(n*(i+1))"
   ]
  },
  {
   "cell_type": "code",
   "execution_count": 12,
   "metadata": {},
   "outputs": [
    {
     "name": "stdout",
     "output_type": "stream",
     "text": [
      "enter n: 3\n",
      "0\n",
      "1\n"
     ]
    }
   ],
   "source": [
    "#3.28\n",
    "integer = eval(input(\"enter n: \"))\n",
    "for i in range(0,n):\n",
    "    if i!=n:\n",
    "        s = i**2\n",
    "        print(s)"
   ]
  },
  {
   "cell_type": "code",
   "execution_count": 15,
   "metadata": {},
   "outputs": [
    {
     "name": "stdout",
     "output_type": "stream",
     "text": [
      "enter the first number: 4.5\n",
      "enter the second number: 3\n",
      "enter the third number: 4.5\n",
      "enter the fourth number: 3\n",
      "equal\n"
     ]
    }
   ],
   "source": [
    "#3.30\n",
    "num_1 = eval(input(\"enter the first number: \"))\n",
    "num_2 = eval(input(\"enter the second number: \"))\n",
    "num_3 = eval(input(\"enter the third number: \"))\n",
    "num_4 = eval(input(\"enter the fourth number: \"))\n",
    "\n",
    "if (num_1 + num_2 + num_3)/4 == num_4:\n",
    "    print(\"equal\")"
   ]
  },
  {
   "cell_type": "code",
   "execution_count": 16,
   "metadata": {},
   "outputs": [
    {
     "name": "stdout",
     "output_type": "stream",
     "text": [
      "enter the x-cordinate: 3\n",
      "enter the y-cordinate: 4\n",
      "it is not in\n"
     ]
    }
   ],
   "source": [
    "#3.31\n",
    "radius = 8\n",
    "a = 0\n",
    "b = 0\n",
    "x = eval(input(\"enter the x-cordinate: \"))\n",
    "y = eval(input(\"enter the y-cordinate: \"))\n",
    "point = (x-a)**2+(y-b)**2\n",
    "if point<radius:\n",
    "    print(\"it is in\")\n",
    "else:\n",
    "    print(\"it is not in\")"
   ]
  },
  {
   "cell_type": "code",
   "execution_count": 17,
   "metadata": {},
   "outputs": [
    {
     "name": "stdout",
     "output_type": "stream",
     "text": [
      "enter n: 12334\n",
      "1\n",
      "2\n",
      "3\n",
      "3\n",
      "4\n"
     ]
    }
   ],
   "source": [
    "#3.32\n",
    "number = input(\"enter n: \")\n",
    "number.split()\n",
    "for i in number:\n",
    "    print(i)"
   ]
  },
  {
   "cell_type": "code",
   "execution_count": 19,
   "metadata": {},
   "outputs": [
    {
     "name": "stdout",
     "output_type": "stream",
     "text": [
      "reversed_string : abdullah\n",
      "halludba\n"
     ]
    }
   ],
   "source": [
    "#3.33\n",
    "def reverse(s): \n",
    "  str = \"\" \n",
    "  for i in s: \n",
    "    str = i + str\n",
    "  return str\n",
    "  \n",
    "s = \"abdullah\"\n",
    "  \n",
    "print (\"reversed_string : \",end=\"\") \n",
    "print (s) \n",
    "print (reverse(s)) "
   ]
  },
  {
   "cell_type": "code",
   "execution_count": 20,
   "metadata": {},
   "outputs": [
    {
     "name": "stdout",
     "output_type": "stream",
     "text": [
      "how many hours you have worked6\n",
      "You have worked less than 40 hours\n"
     ]
    },
    {
     "data": {
      "text/plain": [
       "2000.0"
      ]
     },
     "execution_count": 20,
     "metadata": {},
     "output_type": "execute_result"
    }
   ],
   "source": [
    "#3.34\n",
    "def pay(hours):\n",
    "    if hours<40:\n",
    "        a=(hours/1.5)*500\n",
    "        print(\"You have worked less than 40 hours\")\n",
    "        return a\n",
    "    else :\n",
    "        a=hours*500\n",
    "        print(\"you have worked hard\")\n",
    "        return a\n",
    "    \n",
    "h=int(input(\"how many hours you have worked\"))\n",
    "pay(h)"
   ]
  },
  {
   "cell_type": "code",
   "execution_count": 21,
   "metadata": {},
   "outputs": [
    {
     "name": "stdout",
     "output_type": "stream",
     "text": [
      "Enter value of n9\n"
     ]
    },
    {
     "data": {
      "text/plain": [
       "0.001953125"
      ]
     },
     "execution_count": 21,
     "metadata": {},
     "output_type": "execute_result"
    }
   ],
   "source": [
    "#3.35\n",
    "def prob(n):\n",
    "    res=2**-n\n",
    "    return res\n",
    "n=int(input(\"Enter value of n\"))\n",
    "prob(n)"
   ]
  },
  {
   "cell_type": "code",
   "execution_count": 22,
   "metadata": {},
   "outputs": [
    {
     "name": "stdout",
     "output_type": "stream",
     "text": [
      "Enter enter stringAbdullah\n"
     ]
    },
    {
     "data": {
      "text/plain": [
       "'halludbA'"
      ]
     },
     "execution_count": 22,
     "metadata": {},
     "output_type": "execute_result"
    }
   ],
   "source": [
    "#3.36\n",
    "def rev(a):\n",
    "    res=a[::-1]\n",
    "    return res\n",
    "a=str(input(\"Enter enter string\"))\n",
    "rev(a)\n"
   ]
  },
  {
   "cell_type": "code",
   "execution_count": 24,
   "metadata": {},
   "outputs": [
    {
     "name": "stdout",
     "output_type": "stream",
     "text": [
      "Line is vertical\n",
      "distance is 3.0\n"
     ]
    }
   ],
   "source": [
    "#3.37\n",
    "def points(x1,y1,x2,y2):\n",
    "    res=(y2-y1)/(x2-x1)\n",
    "    if res==0:\n",
    "        print(\"Line is vertical\")\n",
    "    else:\n",
    "        return res\n",
    "points(1,1,0,1)\n",
    "from math import sqrt\n",
    "def distance(x1,y1,x2,y2):\n",
    "    a=(x2-x1)*(y2-y1)\n",
    "    b=sqrt(a)\n",
    "    print(\"distance is\", b)\n",
    "distance(1,2,4,5)"
   ]
  },
  {
   "cell_type": "code",
   "execution_count": 26,
   "metadata": {},
   "outputs": [
    {
     "name": "stdout",
     "output_type": "stream",
     "text": [
      "Enter your name: Abdullah Wasim\n",
      "misaW halludbA\n"
     ]
    }
   ],
   "source": [
    "#3.41\n",
    "a=input(\"Enter your name: \")\n",
    "b=a[::-1]\n",
    "print(b)"
   ]
  },
  {
   "cell_type": "code",
   "execution_count": 27,
   "metadata": {},
   "outputs": [
    {
     "name": "stdout",
     "output_type": "stream",
     "text": [
      "What is the time (in seconds) elapsed between the flash and thunder? 6\n",
      "The distance to a lightening strike is  1.25 miles\n"
     ]
    }
   ],
   "source": [
    "#3.44\n",
    "def main():\n",
    "    time = eval(input(\"What is the time (in seconds) elapsed between the flash and thunder? \"))\n",
    "    sound = 1100*time\n",
    "    ans = sound/5280\n",
    "    print(\"The distance to a lightening strike is \", ans , \"miles\")\n",
    "main()"
   ]
  }
 ],
 "metadata": {
  "kernelspec": {
   "display_name": "Python 3",
   "language": "python",
   "name": "python3"
  },
  "language_info": {
   "codemirror_mode": {
    "name": "ipython",
    "version": 3
   },
   "file_extension": ".py",
   "mimetype": "text/x-python",
   "name": "python",
   "nbconvert_exporter": "python",
   "pygments_lexer": "ipython3",
   "version": "3.7.3"
  }
 },
 "nbformat": 4,
 "nbformat_minor": 2
}
