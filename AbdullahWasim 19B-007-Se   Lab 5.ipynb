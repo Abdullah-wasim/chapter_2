{
 "cells": [
  {
   "cell_type": "markdown",
   "metadata": {},
   "source": [
    "# ABDULLAH WASIM 19B-007-SE  Programming Exercise (LAB-05)"
   ]
  },
  {
   "cell_type": "code",
   "execution_count": 1,
   "metadata": {},
   "outputs": [
    {
     "name": "stdout",
     "output_type": "stream",
     "text": [
      "The surfacearea is 276.496\n",
      "The volume is 1809.792\n"
     ]
    }
   ],
   "source": [
    "# Program 1\n",
    "\n",
    "#for area\n",
    "def surfacearea(r,h):\n",
    "    formula  = 2*3.142*r*h+2*3.142*(r**2)\n",
    "    return formula\n",
    "\n",
    "#for volume\n",
    "def volume(r,h):\n",
    "    formula = 3.142*(r**2)*h\n",
    "    return formula\n",
    "\n",
    "#calculating area\n",
    "print(\"The surfacearea is \"+str(surfacearea(4,7)))\n",
    "\n",
    "#calculating volume\n",
    "print(\"The volume is \"+str(volume(8,9)))"
   ]
  },
  {
   "cell_type": "code",
   "execution_count": 2,
   "metadata": {},
   "outputs": [
    {
     "name": "stdout",
     "output_type": "stream",
     "text": [
      "Enter lenth for area: 23\n",
      "Enter width for area: 45\n",
      "Enter length for volume: 22\n",
      "Enter width for volume: 12\n",
      "Enter height for volume: 13\n",
      "The area is 264.0\n",
      "The volume is 3432.0\n"
     ]
    }
   ],
   "source": [
    "# Program 2 \n",
    "\n",
    "#for area\n",
    "def area(l,w):\n",
    "    formula = l*w\n",
    "    return formula\n",
    "l = float(input(\"Enter lenth for area: \"))\n",
    "w = float(input(\"Enter width for area: \"))\n",
    "\n",
    "#for volume\n",
    "def volume(l,w,h):\n",
    "    formula = l*w*h\n",
    "    return formula\n",
    "l = float(input(\"Enter length for volume: \"))\n",
    "w = float(input(\"Enter width for volume: \"))\n",
    "h = float(input(\"Enter height for volume: \"))\n",
    "\n",
    "#calculating area\n",
    "print(\"The area is \"+str(area(l,w)))\n",
    "\n",
    "#calculating volume\n",
    "print(\"The volume is \"+str(volume(l,w,h)))"
   ]
  },
  {
   "cell_type": "code",
   "execution_count": 3,
   "metadata": {},
   "outputs": [
    {
     "name": "stdout",
     "output_type": "stream",
     "text": [
      "3\n",
      "Enter yes if you want to continue: yes\n",
      "Enter second term:5\n",
      "5.0\n"
     ]
    }
   ],
   "source": [
    "# Program 3\n",
    "\n",
    "def nthterm(a,n,d):\n",
    "    an = a+(n-1)*d\n",
    "    return an\n",
    "\n",
    "print(nthterm(1,3,1))\n",
    "solve_another = str(input(\"Enter yes if you want to continue: \"))\n",
    "\n",
    "if solve_another =='yes':\n",
    "    n2 = float(input(\"Enter second term:\"))\n",
    "    print(nthterm(1,n2,1))\n",
    "    \n",
    "else:\n",
    "    print(\"sorry problem cant be solved: \")"
   ]
  },
  {
   "cell_type": "code",
   "execution_count": 4,
   "metadata": {},
   "outputs": [
    {
     "name": "stdout",
     "output_type": "stream",
     "text": [
      "enter name : Abdullah\n"
     ]
    },
    {
     "data": {
      "text/plain": [
       "<reversed at 0x216626022b0>"
      ]
     },
     "execution_count": 4,
     "metadata": {},
     "output_type": "execute_result"
    }
   ],
   "source": [
    "# Program 4\n",
    "\n",
    "def name(a):\n",
    "    palindrome = reversed('a')\n",
    "    return palindrome\n",
    "a = str(input(\"enter name : \"))\n",
    "name(a)"
   ]
  },
  {
   "cell_type": "code",
   "execution_count": 5,
   "metadata": {},
   "outputs": [
    {
     "name": "stdout",
     "output_type": "stream",
     "text": [
      "What is your name: Abdullah Wasim\n",
      "What is your father name: Muhammad Wasim\n",
      "What is your roll number : 224\n",
      "Enter name of subject no. 0: Math\n",
      "Enter marks obtained in Math: 67\n",
      "Enter name of subject no. 1: English\n",
      "Enter marks obtained in English: 80\n",
      "Enter name of subject no. 2: Chemistry\n",
      "Enter marks obtained in Chemistry: 78\n",
      "Enter name of subject no. 3: Physics\n",
      "Enter marks obtained in Physics: 89\n",
      "Enter name of subject no. 4: Programming fundementals\n",
      "Enter marks obtained in Programming fundementals: 88\n",
      "********************************************* REPORT CARD ******************************************************\n",
      "\tNAME : Abdullah Wasim Muhammad Wasim\n",
      "\tROLL NO. : 224\n",
      "\n",
      "\n",
      "\tSUBJECT\tOBTAINED MARKS\tTOTALMARKS\n",
      "\tMath\t\t67\t100\n",
      "\tEnglish\t\t80\t100\n",
      "\tChemistry\t\t78\t100\n",
      "\tPhysics\t\t89\t100\n",
      "\tProgramming fundementals\t\t88\t100\n",
      "\tTotalMarks \t402\t500\n",
      "\tPercentage : \t80.4\n"
     ]
    }
   ],
   "source": [
    "# Program 5 \n",
    "\n",
    "def ReportCardGenerator():\n",
    "    name = input(\"What is your name: \")\n",
    "    fname = input(\"What is your father name: \")\n",
    "    rno = input(\"What is your roll number : \")\n",
    "    sub= []\n",
    "    marks=[]\n",
    "\n",
    "    for i in range(0,5):\n",
    "        sub.append(input(\"Enter name of subject no. \"+str(i)+\": \"))\n",
    "        marks.append(input(\"Enter marks obtained in \"+str(sub[i])+\": \"))    \n",
    "        \n",
    "    createReportCard(name,fname,sub,marks,rno)\n",
    "    \n",
    "def createReportCard(name,fname,sub,marks,rno): \n",
    "    obtainedMarks = 0\n",
    "    totalMarks = 500\n",
    "    print(\"********************************************* REPORT CARD ******************************************************\")\n",
    "    print(\"\\tNAME : \"+name+\" \"+fname)\n",
    "    print(\"\\tROLL NO. : \" + str(rno))\n",
    "    print(\"\\n\\n\\tSUBJECT\\tOBTAINED MARKS\\tTOTALMARKS\")\n",
    "    for i in range(0,5):\n",
    "        print(\"\\t\"+sub[i] +\"\\t\\t\"+str(marks[i])+\"\\t100\")\n",
    "        obtainedMarks = obtainedMarks + int(marks[i])\n",
    "    percentage = (obtainedMarks / totalMarks) * 100\n",
    "    print(\"\\tTotalMarks \\t\"+str(obtainedMarks)+\"\\t500\")\n",
    "    print(\"\\tPercentage : \\t\" + str(percentage))\n",
    "    \n",
    "ReportCardGenerator()"
   ]
  },
  {
   "cell_type": "code",
   "execution_count": 6,
   "metadata": {},
   "outputs": [
    {
     "name": "stdout",
     "output_type": "stream",
     "text": [
      "82.4\n",
      "206.4\n",
      "7.939773296511683\n"
     ]
    }
   ],
   "source": [
    "# Program 6 \n",
    "\n",
    "import math\n",
    "def First_Law(vi,a,t):\n",
    "    vf=vi + a*t\n",
    "    return vf\n",
    "def Second_Law(vi,t,a):\n",
    "    s = vi*t + ((0.5)* a * (t**2))\n",
    "    return s\n",
    "def Third_Law(a,s,vi):\n",
    "    vf = math.sqrt((2 * a* s) + (vi**2))\n",
    "    return vf\n",
    "    \n",
    "print(First_Law(4,9.8,8))\n",
    "print(Second_Law(5,6,9.8))\n",
    "print(Third_Law(9.8,2.4,4))"
   ]
  },
  {
   "cell_type": "code",
   "execution_count": 7,
   "metadata": {},
   "outputs": [
    {
     "name": "stdout",
     "output_type": "stream",
     "text": [
      "Enter velocity: 223\n",
      "Enter angle: 44\n"
     ]
    },
    {
     "data": {
      "text/plain": [
       "179.65286399328812"
      ]
     },
     "execution_count": 7,
     "metadata": {},
     "output_type": "execute_result"
    }
   ],
   "source": [
    "# Program 7 \n",
    "\n",
    "from math import sin\n",
    "def r(v,angle):\n",
    "    formula = v**2*sin(angle)*2/9.8\n",
    "    return formula\n",
    "\n",
    "v = float(input(\"Enter velocity: \"))\n",
    "angle = float(input(\"Enter angle: \"))\n",
    "r(v,angle)"
   ]
  },
  {
   "cell_type": "code",
   "execution_count": 9,
   "metadata": {},
   "outputs": [
    {
     "name": "stdout",
     "output_type": "stream",
     "text": [
      "halludbA\n"
     ]
    }
   ],
   "source": [
    "# Program 8\n",
    "\n",
    "def reverseString(name):\n",
    "    size = len(name)\n",
    "    reverseName=\"\"\n",
    "   \n",
    "    for i in range(size-1,-1,-1):  \n",
    "        reverseName = reverseName + name[i]\n",
    "    return reverseName\n",
    "    \n",
    "print(reverseString('Abdullah'))"
   ]
  },
  {
   "cell_type": "code",
   "execution_count": 10,
   "metadata": {},
   "outputs": [
    {
     "name": "stdout",
     "output_type": "stream",
     "text": [
      "Degxoodk\n"
     ]
    }
   ],
   "source": [
    "# Program 9\n",
    "\n",
    "def encryptMessage(message,shiftCipherNumber):\n",
    "    size = len(message)\n",
    "    encryptedMessage=\"\"\n",
    "    \n",
    "    for i in range(0,size,1):  \n",
    "        encryptedMessage=encryptedMessage + chr(ord(message[i]) + 3)\n",
    "    return encryptedMessage\n",
    "    \n",
    "print(encryptMessage('Abdullah',3))"
   ]
  },
  {
   "cell_type": "code",
   "execution_count": 9,
   "metadata": {},
   "outputs": [
    {
     "name": "stdout",
     "output_type": "stream",
     "text": [
      "Sin(0) = 0.0\t Cos(0) = 1.0\t Tan(0) = 0.0\n",
      "\n",
      "Sin(30) = 0.49999983786263447\t Cos(30) = 0.8660254973944701\t Tan(30) = 0.5773500195628619\n",
      "\n",
      "Sin(60) = 0.8660252165642848\t Cos(60) = 0.5000003242746784\t Tan(60) = 1.7320493098091034\n",
      "\n",
      "Sin(90) = 0.9999999999998422\t Cos(90) = 5.616602794579501e-07\t Tan(90) = 1780435.6771764725\n",
      "\n"
     ]
    }
   ],
   "source": [
    "# Program 10\n",
    "\n",
    "import math\n",
    "def generateTable(rangeStart,rangeEnd,diff):\n",
    "    for i in range (rangeStart, rangeEnd+ diff,diff):\n",
    "        rad = i /57.2958\n",
    "        print(\"Sin(\"+ str(i) + \") = \"+ str(math.sin(rad)) + \"\\t Cos(\"+ str(i) + \") = \"+ str(math.cos(rad)) + \"\\t Tan(\"+ str(i) + \") = \"+ str(math.tan(rad)) + \"\\n\")\n",
    "generateTable(0,90,30)"
   ]
  },
  {
   "cell_type": "code",
   "execution_count": null,
   "metadata": {},
   "outputs": [],
   "source": [
    "# Program 11\n",
    "\n"
   ]
  }
 ],
 "metadata": {
  "kernelspec": {
   "display_name": "Python 3",
   "language": "python",
   "name": "python3"
  },
  "language_info": {
   "codemirror_mode": {
    "name": "ipython",
    "version": 3
   },
   "file_extension": ".py",
   "mimetype": "text/x-python",
   "name": "python",
   "nbconvert_exporter": "python",
   "pygments_lexer": "ipython3",
   "version": "3.7.3"
  }
 },
 "nbformat": 4,
 "nbformat_minor": 2
}
